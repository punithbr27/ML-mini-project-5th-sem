{
 "cells": [
  {
   "cell_type": "code",
   "execution_count": 5,
   "id": "d672913e",
   "metadata": {},
   "outputs": [],
   "source": [
    "import pandas as pd\n",
    "import numpy as np\n",
    "from sklearn.preprocessing import StandardScaler\n",
    "import matplotlib.pyplot as plt\n",
    "import seaborn as sns"
   ]
  },
  {
   "cell_type": "markdown",
   "id": "ec48ed4f",
   "metadata": {},
   "source": [
    "<h3> Loading the Data into Python and understanding the data</h3>"
   ]
  },
  {
   "cell_type": "code",
   "execution_count": 6,
   "id": "148881c6",
   "metadata": {},
   "outputs": [
    {
     "name": "stderr",
     "output_type": "stream",
     "text": [
      "/tmp/ipykernel_21397/1679190789.py:5: FutureWarning: The 'delim_whitespace' keyword in pd.read_csv is deprecated and will be removed in a future version. Use ``sep='\\s+'`` instead\n",
      "  X_train = pd.read_csv(f'{dataset_path}train/X_train.txt', delim_whitespace=True, header=None)\n",
      "/tmp/ipykernel_21397/1679190789.py:6: FutureWarning: The 'delim_whitespace' keyword in pd.read_csv is deprecated and will be removed in a future version. Use ``sep='\\s+'`` instead\n",
      "  y_train = pd.read_csv(f'{dataset_path}train/y_train.txt', delim_whitespace=True, header=None)\n",
      "/tmp/ipykernel_21397/1679190789.py:7: FutureWarning: The 'delim_whitespace' keyword in pd.read_csv is deprecated and will be removed in a future version. Use ``sep='\\s+'`` instead\n",
      "  subject_train = pd.read_csv(f'{dataset_path}train/subject_train.txt', delim_whitespace=True, header=None)\n",
      "/tmp/ipykernel_21397/1679190789.py:10: FutureWarning: The 'delim_whitespace' keyword in pd.read_csv is deprecated and will be removed in a future version. Use ``sep='\\s+'`` instead\n",
      "  X_test = pd.read_csv(f'{dataset_path}test/X_test.txt', delim_whitespace=True, header=None)\n"
     ]
    },
    {
     "name": "stdout",
     "output_type": "stream",
     "text": [
      "X_train shape: (7352, 561)\n",
      "y_train shape: (7352, 1)\n",
      "subject_train shape: (7352, 1)\n",
      "X_test shape: (2947, 561)\n",
      "y_test shape: (2947, 1)\n",
      "subject_test shape: (2947, 1)\n",
      "features shape: (561, 2)\n",
      "activity_labels shape: (6, 2)\n"
     ]
    },
    {
     "name": "stderr",
     "output_type": "stream",
     "text": [
      "/tmp/ipykernel_21397/1679190789.py:11: FutureWarning: The 'delim_whitespace' keyword in pd.read_csv is deprecated and will be removed in a future version. Use ``sep='\\s+'`` instead\n",
      "  y_test = pd.read_csv(f'{dataset_path}test/y_test.txt', delim_whitespace=True, header=None)\n",
      "/tmp/ipykernel_21397/1679190789.py:12: FutureWarning: The 'delim_whitespace' keyword in pd.read_csv is deprecated and will be removed in a future version. Use ``sep='\\s+'`` instead\n",
      "  subject_test = pd.read_csv(f'{dataset_path}test/subject_test.txt', delim_whitespace=True, header=None)\n",
      "/tmp/ipykernel_21397/1679190789.py:15: FutureWarning: The 'delim_whitespace' keyword in pd.read_csv is deprecated and will be removed in a future version. Use ``sep='\\s+'`` instead\n",
      "  features = pd.read_csv(f'{dataset_path}features.txt', delim_whitespace=True, header=None)\n",
      "/tmp/ipykernel_21397/1679190789.py:16: FutureWarning: The 'delim_whitespace' keyword in pd.read_csv is deprecated and will be removed in a future version. Use ``sep='\\s+'`` instead\n",
      "  activity_labels = pd.read_csv(f'{dataset_path}activity_labels.txt', delim_whitespace=True, header=None)\n"
     ]
    }
   ],
   "source": [
    "# Define the path to your dataset (adjust if necessary)\n",
    "dataset_path = 'UCI HAR Dataset/' # Assuming you are running from the parent directory of UCI HAR Dataset\n",
    "\n",
    "# Load training data\n",
    "X_train = pd.read_csv(f'{dataset_path}train/X_train.txt', delim_whitespace=True, header=None)\n",
    "y_train = pd.read_csv(f'{dataset_path}train/y_train.txt', delim_whitespace=True, header=None)\n",
    "subject_train = pd.read_csv(f'{dataset_path}train/subject_train.txt', delim_whitespace=True, header=None)\n",
    "\n",
    "# Load test data\n",
    "X_test = pd.read_csv(f'{dataset_path}test/X_test.txt', delim_whitespace=True, header=None)\n",
    "y_test = pd.read_csv(f'{dataset_path}test/y_test.txt', delim_whitespace=True, header=None)\n",
    "subject_test = pd.read_csv(f'{dataset_path}test/subject_test.txt', delim_whitespace=True, header=None)\n",
    "\n",
    "# Load features and activity labels\n",
    "features = pd.read_csv(f'{dataset_path}features.txt', delim_whitespace=True, header=None)\n",
    "activity_labels = pd.read_csv(f'{dataset_path}activity_labels.txt', delim_whitespace=True, header=None)\n",
    "\n",
    "# Let's inspect the shapes of the loaded dataframes\n",
    "print(\"X_train shape:\", X_train.shape)\n",
    "print(\"y_train shape:\", y_train.shape)\n",
    "print(\"subject_train shape:\", subject_train.shape)\n",
    "print(\"X_test shape:\", X_test.shape)\n",
    "print(\"y_test shape:\", y_test.shape)\n",
    "print(\"subject_test shape:\", subject_test.shape)\n",
    "print(\"features shape:\", features.shape)\n",
    "print(\"activity_labels shape:\", activity_labels.shape)"
   ]
  },
  {
   "cell_type": "code",
   "execution_count": null,
   "id": "aa173622",
   "metadata": {},
   "outputs": [],
   "source": []
  },
  {
   "cell_type": "code",
   "execution_count": null,
   "id": "baabfde8",
   "metadata": {},
   "outputs": [],
   "source": []
  },
  {
   "cell_type": "markdown",
   "id": "9825e717",
   "metadata": {},
   "source": [
    "Assigning feature names, activity names, see the distribution of each class, data scaling and seeing the scaled data"
   ]
  },
  {
   "cell_type": "code",
   "execution_count": null,
   "id": "0522b050",
   "metadata": {},
   "outputs": [
    {
     "name": "stdout",
     "output_type": "stream",
     "text": [
      "X_train with feature names:\n",
      "   tBodyAcc-mean()-X  tBodyAcc-mean()-Y  tBodyAcc-mean()-Z  tBodyAcc-std()-X  \\\n",
      "0           0.288585          -0.020294          -0.132905         -0.995279   \n",
      "1           0.278419          -0.016411          -0.123520         -0.998245   \n",
      "2           0.279653          -0.019467          -0.113462         -0.995380   \n",
      "3           0.279174          -0.026201          -0.123283         -0.996091   \n",
      "4           0.276629          -0.016570          -0.115362         -0.998139   \n",
      "\n",
      "   tBodyAcc-std()-Y  tBodyAcc-std()-Z  tBodyAcc-mad()-X  tBodyAcc-mad()-Y  \\\n",
      "0         -0.983111         -0.913526         -0.995112         -0.983185   \n",
      "1         -0.975300         -0.960322         -0.998807         -0.974914   \n",
      "2         -0.967187         -0.978944         -0.996520         -0.963668   \n",
      "3         -0.983403         -0.990675         -0.997099         -0.982750   \n",
      "4         -0.980817         -0.990482         -0.998321         -0.979672   \n",
      "\n",
      "   tBodyAcc-mad()-Z  tBodyAcc-max()-X  ...  fBodyBodyGyroJerkMag-meanFreq()  \\\n",
      "0         -0.923527         -0.934724  ...                        -0.074323   \n",
      "1         -0.957686         -0.943068  ...                         0.158075   \n",
      "2         -0.977469         -0.938692  ...                         0.414503   \n",
      "3         -0.989302         -0.938692  ...                         0.404573   \n",
      "4         -0.990441         -0.942469  ...                         0.087753   \n",
      "\n",
      "   fBodyBodyGyroJerkMag-skewness()  fBodyBodyGyroJerkMag-kurtosis()  \\\n",
      "0                        -0.298676                        -0.710304   \n",
      "1                        -0.595051                        -0.861499   \n",
      "2                        -0.390748                        -0.760104   \n",
      "3                        -0.117290                        -0.482845   \n",
      "4                        -0.351471                        -0.699205   \n",
      "\n",
      "   angle(tBodyAccMean,gravity)  angle(tBodyAccJerkMean),gravityMean)  \\\n",
      "0                    -0.112754                              0.030400   \n",
      "1                     0.053477                             -0.007435   \n",
      "2                    -0.118559                              0.177899   \n",
      "3                    -0.036788                             -0.012892   \n",
      "4                     0.123320                              0.122542   \n",
      "\n",
      "   angle(tBodyGyroMean,gravityMean)  angle(tBodyGyroJerkMean,gravityMean)  \\\n",
      "0                         -0.464761                             -0.018446   \n",
      "1                         -0.732626                              0.703511   \n",
      "2                          0.100699                              0.808529   \n",
      "3                          0.640011                             -0.485366   \n",
      "4                          0.693578                             -0.615971   \n",
      "\n",
      "   angle(X,gravityMean)  angle(Y,gravityMean)  angle(Z,gravityMean)  \n",
      "0             -0.841247              0.179941             -0.058627  \n",
      "1             -0.844788              0.180289             -0.054317  \n",
      "2             -0.848933              0.180637             -0.049118  \n",
      "3             -0.848649              0.181935             -0.047663  \n",
      "4             -0.847865              0.185151             -0.043892  \n",
      "\n",
      "[5 rows x 561 columns]\n",
      "\n",
      "Missing values in X_train: 0\n",
      "Missing values in X_test: 0\n",
      "\n",
      "y_train with activity names:\n",
      "0    STANDING\n",
      "1    STANDING\n",
      "2    STANDING\n",
      "3    STANDING\n",
      "4    STANDING\n",
      "Name: 0, dtype: object\n"
     ]
    },
    {
     "data": {
      "image/png": "[encoded data removed]",
      "text/plain": [
       "<Figure size 1000x500 with 1 Axes>"
      ]
     },
     "metadata": {},
     "output_type": "display_data"
    },
    {
     "name": "stdout",
     "output_type": "stream",
     "text": [
      "\n",
      "X_train_scaled head (first 5 rows, first 5 columns):\n",
      "   tBodyAcc-mean()-X  tBodyAcc-mean()-Y  tBodyAcc-mean()-Z  tBodyAcc-std()-X  \\\n",
      "0           0.200642          -0.063683          -0.419628         -0.868814   \n",
      "1           0.055948           0.031486          -0.253908         -0.875426   \n",
      "2           0.073515          -0.043416          -0.076295         -0.869039   \n",
      "3           0.066696          -0.208422          -0.249712         -0.870626   \n",
      "4           0.030469           0.027587          -0.109848         -0.875188   \n",
      "\n",
      "   tBodyAcc-std()-Y  \n",
      "0         -0.939441  \n",
      "1         -0.923902  \n",
      "2         -0.907760  \n",
      "3         -0.940022  \n",
      "4         -0.934878  \n"
     ]
    }
   ],
   "source": [
    "# 1. Assign Feature Names\n",
    "feature_names = features[1].tolist() # features is a DataFrame with 2 columns, we want the second one\n",
    "X_train.columns = feature_names\n",
    "X_test.columns = feature_names\n",
    "\n",
    "print(\"X_train with feature names:\")\n",
    "print(X_train.head())\n",
    "print(\"\\nMissing values in X_train:\", X_train.isnull().sum().sum())\n",
    "print(\"Missing values in X_test:\", X_test.isnull().sum().sum())\n",
    "\n",
    "\n",
    "\n",
    "\n",
    "# 2. Assign Activity Names\n",
    "activity_labels_dict = activity_labels.set_index(0)[1].to_dict()\n",
    "y_train_labels = y_train[0].map(activity_labels_dict)\n",
    "y_test_labels = y_test[0].map(activity_labels_dict)\n",
    "\n",
    "print(\"\\ny_train with activity names:\")\n",
    "print(y_train_labels.head())\n",
    "\n",
    "\n",
    "\n",
    "\n",
    "# 3. Analyze Activity Distribution \n",
    "plt.figure(figsize=(10, 5))\n",
    "sns.countplot(x=y_train_labels, order=y_train_labels.value_counts().index)\n",
    "plt.title('Distribution of Activities in Training Set')\n",
    "plt.xlabel('Activity')\n",
    "plt.ylabel('Count')\n",
    "plt.xticks(rotation=45, ha='right')\n",
    "plt.tight_layout()\n",
    "plt.show()\n",
    "\n",
    "# 4. Data Scaling (Shared task)\n",
    "scaler = StandardScaler()\n",
    "\n",
    "# Fit the scaler ONLY on the training data\n",
    "X_train_scaled = scaler.fit_transform(X_train)\n",
    "\n",
    "# Transform both training and test data using the fitted scaler\n",
    "X_test_scaled = scaler.transform(X_test)\n",
    "\n",
    "# Convert back to DataFrame if you want to keep column names, optional for most models\n",
    "X_train_scaled = pd.DataFrame(X_train_scaled, columns=feature_names)\n",
    "X_test_scaled = pd.DataFrame(X_test_scaled, columns=feature_names)\n",
    "\n",
    "print(\"\\nX_train_scaled head (first 5 rows, first 5 columns):\")\n",
    "print(X_train_scaled.iloc[:, :5].head())"
   ]
  },
  {
   "cell_type": "code",
   "execution_count": null,
   "id": "e87db871",
   "metadata": {},
   "outputs": [],
   "source": []
  },
  {
   "cell_type": "code",
   "execution_count": null,
   "id": "627851db",
   "metadata": {},
   "outputs": [],
   "source": []
  },
  {
   "cell_type": "code",
   "execution_count": null,
   "id": "b5b9375f",
   "metadata": {},
   "outputs": [],
   "source": []
  },
  {
   "cell_type": "code",
   "execution_count": null,
   "id": "11673d7f",
   "metadata": {},
   "outputs": [],
   "source": []
  },
  {
   "cell_type": "markdown",
   "id": "1520e61c",
   "metadata": {},
   "source": [
    "Implementing and training basic models"
   ]
  }
 ],
 "metadata": {
  "kernelspec": {
   "display_name": "ml",
   "language": "python",
   "name": "python3"
  },
  "language_info": {
   "codemirror_mode": {
    "name": "ipython",
    "version": 3
   },
   "file_extension": ".py",
   "mimetype": "text/x-python",
   "name": "python",
   "nbconvert_exporter": "python",
   "pygments_lexer": "ipython3",
   "version": "3.12.3"
  }
 },
 "nbformat": 4,
 "nbformat_minor": 5
}
