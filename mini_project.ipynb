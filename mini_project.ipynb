{
 "cells": [
  {
   "cell_type": "code",
   "execution_count": 5,
   "id": "d672913e",
   "metadata": {},
   "outputs": [],
   "source": [
    "import pandas as pd\n",
    "import numpy as np\n",
    "from sklearn.preprocessing import StandardScaler\n",
    "import matplotlib.pyplot as plt\n",
    "import seaborn as sns"
   ]
  },
  {
   "cell_type": "markdown",
   "id": "ec48ed4f",
   "metadata": {},
   "source": [
    "<h3> Loading the Data into Python and understanding the data</h3>"
   ]
  },
  {
   "cell_type": "code",
   "execution_count": 6,
   "id": "148881c6",
   "metadata": {},
   "outputs": [
    {
     "name": "stderr",
     "output_type": "stream",
     "text": [
      "/tmp/ipykernel_21397/1679190789.py:5: FutureWarning: The 'delim_whitespace' keyword in pd.read_csv is deprecated and will be removed in a future version. Use ``sep='\\s+'`` instead\n",
      "  X_train = pd.read_csv(f'{dataset_path}train/X_train.txt', delim_whitespace=True, header=None)\n",
      "/tmp/ipykernel_21397/1679190789.py:6: FutureWarning: The 'delim_whitespace' keyword in pd.read_csv is deprecated and will be removed in a future version. Use ``sep='\\s+'`` instead\n",
      "  y_train = pd.read_csv(f'{dataset_path}train/y_train.txt', delim_whitespace=True, header=None)\n",
      "/tmp/ipykernel_21397/1679190789.py:7: FutureWarning: The 'delim_whitespace' keyword in pd.read_csv is deprecated and will be removed in a future version. Use ``sep='\\s+'`` instead\n",
      "  subject_train = pd.read_csv(f'{dataset_path}train/subject_train.txt', delim_whitespace=True, header=None)\n",
      "/tmp/ipykernel_21397/1679190789.py:10: FutureWarning: The 'delim_whitespace' keyword in pd.read_csv is deprecated and will be removed in a future version. Use ``sep='\\s+'`` instead\n",
      "  X_test = pd.read_csv(f'{dataset_path}test/X_test.txt', delim_whitespace=True, header=None)\n"
     ]
    },
    {
     "name": "stdout",
     "output_type": "stream",
     "text": [
      "X_train shape: (7352, 561)\n",
      "y_train shape: (7352, 1)\n",
      "subject_train shape: (7352, 1)\n",
      "X_test shape: (2947, 561)\n",
      "y_test shape: (2947, 1)\n",
      "subject_test shape: (2947, 1)\n",
      "features shape: (561, 2)\n",
      "activity_labels shape: (6, 2)\n"
     ]
    },
    {
     "name": "stderr",
     "output_type": "stream",
     "text": [
      "/tmp/ipykernel_21397/1679190789.py:11: FutureWarning: The 'delim_whitespace' keyword in pd.read_csv is deprecated and will be removed in a future version. Use ``sep='\\s+'`` instead\n",
      "  y_test = pd.read_csv(f'{dataset_path}test/y_test.txt', delim_whitespace=True, header=None)\n",
      "/tmp/ipykernel_21397/1679190789.py:12: FutureWarning: The 'delim_whitespace' keyword in pd.read_csv is deprecated and will be removed in a future version. Use ``sep='\\s+'`` instead\n",
      "  subject_test = pd.read_csv(f'{dataset_path}test/subject_test.txt', delim_whitespace=True, header=None)\n",
      "/tmp/ipykernel_21397/1679190789.py:15: FutureWarning: The 'delim_whitespace' keyword in pd.read_csv is deprecated and will be removed in a future version. Use ``sep='\\s+'`` instead\n",
      "  features = pd.read_csv(f'{dataset_path}features.txt', delim_whitespace=True, header=None)\n",
      "/tmp/ipykernel_21397/1679190789.py:16: FutureWarning: The 'delim_whitespace' keyword in pd.read_csv is deprecated and will be removed in a future version. Use ``sep='\\s+'`` instead\n",
      "  activity_labels = pd.read_csv(f'{dataset_path}activity_labels.txt', delim_whitespace=True, header=None)\n"
     ]
    }
   ],
   "source": [
    "# Define the path to your dataset (adjust if necessary)\n",
    "dataset_path = 'UCI HAR Dataset/' # Assuming you are running from the parent directory of UCI HAR Dataset\n",
    "\n",
    "# Load training data\n",
    "X_train = pd.read_csv(f'{dataset_path}train/X_train.txt', delim_whitespace=True, header=None)\n",
    "y_train = pd.read_csv(f'{dataset_path}train/y_train.txt', delim_whitespace=True, header=None)\n",
    "subject_train = pd.read_csv(f'{dataset_path}train/subject_train.txt', delim_whitespace=True, header=None)\n",
    "\n",
    "# Load test data\n",
    "X_test = pd.read_csv(f'{dataset_path}test/X_test.txt', delim_whitespace=True, header=None)\n",
    "y_test = pd.read_csv(f'{dataset_path}test/y_test.txt', delim_whitespace=True, header=None)\n",
    "subject_test = pd.read_csv(f'{dataset_path}test/subject_test.txt', delim_whitespace=True, header=None)\n",
    "\n",
    "# Load features and activity labels\n",
    "features = pd.read_csv(f'{dataset_path}features.txt', delim_whitespace=True, header=None)\n",
    "activity_labels = pd.read_csv(f'{dataset_path}activity_labels.txt', delim_whitespace=True, header=None)\n",
    "\n",
    "# Let's inspect the shapes of the loaded dataframes\n",
    "print(\"X_train shape:\", X_train.shape)\n",
    "print(\"y_train shape:\", y_train.shape)\n",
    "print(\"subject_train shape:\", subject_train.shape)\n",
    "print(\"X_test shape:\", X_test.shape)\n",
    "print(\"y_test shape:\", y_test.shape)\n",
    "print(\"subject_test shape:\", subject_test.shape)\n",
    "print(\"features shape:\", features.shape)\n",
    "print(\"activity_labels shape:\", activity_labels.shape)"
   ]
  },
  {
   "cell_type": "code",
   "execution_count": null,
   "id": "aa173622",
   "metadata": {},
   "outputs": [],
   "source": []
  },
  {
   "cell_type": "code",
   "execution_count": null,
   "id": "baabfde8",
   "metadata": {},
   "outputs": [],
   "source": []
  },
  {
   "cell_type": "markdown",
   "id": "9825e717",
   "metadata": {},
   "source": [
    "Assigning feature names, activity names, "
   ]
  }
 ],
 "metadata": {
  "kernelspec": {
   "display_name": "ml",
   "language": "python",
   "name": "python3"
  },
  "language_info": {
   "codemirror_mode": {
    "name": "ipython",
    "version": 3
   },
   "file_extension": ".py",
   "mimetype": "text/x-python",
   "name": "python",
   "nbconvert_exporter": "python",
   "pygments_lexer": "ipython3",
   "version": "3.12.3"
  }
 },
 "nbformat": 4,
 "nbformat_minor": 5
}
